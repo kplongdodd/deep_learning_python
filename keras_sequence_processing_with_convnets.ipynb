{
 "cells": [
  {
   "cell_type": "markdown",
   "metadata": {},
   "source": [
    "# Sequence Processing with Convnets\n",
    "\n",
    "Convolutional networks extract features from local input patches, enabling data efficiency. We can create 1D convnets where time is the dimension, and such networks can be competitive with RNNs on some sequence processing tasks, often at a fraction of the computational cost. \n",
    "\n",
    "A 1D convolutional layer can recognize local patterns in a sequence. We can use max or average pooling, just like we do with 2D convnets, to extract 1D subsequences that output the maximum or average value respectively. This enables subsampling the 1D inputs. \n",
    "\n",
    "1D convnets in Keras are implemented with the `Conv1D` layer, which takes as input 3D tensors of shape `(samples, time, features)` and returns similarly shaped tensors. The convolution window is a 1D window on the time axis (axis 1). 1D convnets consist of a stack of `Conv1D` and `MaxPooling1D` layers, ending in either a global pooling layer or a `Flatten` layer that turn the 3D outputs into 2D, which then allows you to add one or a stack of `Dense` layers for either classification or regression. \n",
    "\n",
    "This is similar to a 2D convnet, but in the 1D case, you can afford to use larger convolution windows (perhaps of size 7 or 9, compared with 3 for the 2D case). "
   ]
  },
  {
   "cell_type": "markdown",
   "metadata": {},
   "source": [
    "## A 1D convnet for the IMDB sentiment classification task"
   ]
  },
  {
   "cell_type": "code",
   "execution_count": 19,
   "metadata": {},
   "outputs": [],
   "source": [
    "from keras.datasets import imdb\n",
    "from keras.preprocessing import sequence\n",
    "from keras.models import Sequential\n",
    "from keras import layers\n",
    "from keras.optimizers import RMSprop\n",
    "import matplotlib.pyplot as plt"
   ]
  },
  {
   "cell_type": "markdown",
   "metadata": {},
   "source": [
    "### Prepare IMDB data"
   ]
  },
  {
   "cell_type": "code",
   "execution_count": 20,
   "metadata": {},
   "outputs": [
    {
     "name": "stdout",
     "output_type": "stream",
     "text": [
      "Loading data...\n",
      "25000 train sequences\n",
      "25000 test sequences\n",
      "Pad sequences (samples x time)\n",
      "x_train shape: (25000, 500)\n",
      "x_test shape: (25000, 500)\n"
     ]
    }
   ],
   "source": [
    "max_features = 10000\n",
    "max_len = 500\n",
    "\n",
    "print('Loading data...')\n",
    "(x_train, y_train), (x_test, y_test) = imdb.load_data(num_words=max_features)\n",
    "print(len(x_train), 'train sequences')\n",
    "print(len(x_test), 'test sequences')\n",
    "\n",
    "print('Pad sequences (samples x time)')\n",
    "x_train = sequence.pad_sequences(x_train, maxlen=max_len)\n",
    "x_test = sequence.pad_sequences(x_test, maxlen=max_len)\n",
    "print('x_train shape:', x_train.shape)\n",
    "print('x_test shape:', x_test.shape)"
   ]
  },
  {
   "cell_type": "markdown",
   "metadata": {},
   "source": [
    "## Build 1D convnet"
   ]
  },
  {
   "cell_type": "code",
   "execution_count": 21,
   "metadata": {},
   "outputs": [
    {
     "name": "stdout",
     "output_type": "stream",
     "text": [
      "_________________________________________________________________\n",
      "Layer (type)                 Output Shape              Param #   \n",
      "=================================================================\n",
      "embedding_4 (Embedding)      (None, 500, 128)          1280000   \n",
      "_________________________________________________________________\n",
      "conv1d_7 (Conv1D)            (None, 494, 32)           28704     \n",
      "_________________________________________________________________\n",
      "max_pooling1d_4 (MaxPooling1 (None, 98, 32)            0         \n",
      "_________________________________________________________________\n",
      "conv1d_8 (Conv1D)            (None, 92, 32)            7200      \n",
      "_________________________________________________________________\n",
      "global_max_pooling1d_4 (Glob (None, 32)                0         \n",
      "_________________________________________________________________\n",
      "dense_4 (Dense)              (None, 1)                 33        \n",
      "=================================================================\n",
      "Total params: 1,315,937\n",
      "Trainable params: 1,315,937\n",
      "Non-trainable params: 0\n",
      "_________________________________________________________________\n"
     ]
    }
   ],
   "source": [
    "model = Sequential()\n",
    "model.add(layers.Embedding(max_features, 128, input_length=max_len))\n",
    "model.add(layers.Conv1D(32, 7, activation='relu'))\n",
    "model.add(layers.MaxPooling1D(5))\n",
    "model.add(layers.Conv1D(32, 7, activation='relu'))\n",
    "model.add(layers.GlobalMaxPooling1D())\n",
    "model.add(layers.Dense(1))\n",
    "\n",
    "model.summary()\n",
    "\n",
    "model.compile(optimizer=RMSprop(lr=1e-4),\n",
    "             loss='binary_crossentropy',\n",
    "             metrics=['acc'])"
   ]
  },
  {
   "cell_type": "markdown",
   "metadata": {},
   "source": [
    "## Train model"
   ]
  },
  {
   "cell_type": "code",
   "execution_count": 22,
   "metadata": {},
   "outputs": [
    {
     "name": "stdout",
     "output_type": "stream",
     "text": [
      "Train on 20000 samples, validate on 5000 samples\n",
      "Epoch 1/10\n",
      "20000/20000 [==============================] - 33s - loss: 0.7699 - acc: 0.5302 - val_loss: 0.6819 - val_acc: 0.6016\n",
      "Epoch 2/10\n",
      "20000/20000 [==============================] - 31s - loss: 0.6630 - acc: 0.6766 - val_loss: 0.6569 - val_acc: 0.6672\n",
      "Epoch 3/10\n",
      "20000/20000 [==============================] - 33s - loss: 0.6120 - acc: 0.7611 - val_loss: 0.5942 - val_acc: 0.7184\n",
      "Epoch 4/10\n",
      "20000/20000 [==============================] - 34s - loss: 0.5124 - acc: 0.8131 - val_loss: 0.4825 - val_acc: 0.7960\n",
      "Epoch 5/10\n",
      "20000/20000 [==============================] - 32s - loss: 0.4055 - acc: 0.8472 - val_loss: 0.4136 - val_acc: 0.8374\n",
      "Epoch 6/10\n",
      "20000/20000 [==============================] - 31s - loss: 0.3488 - acc: 0.8658 - val_loss: 0.3857 - val_acc: 0.8464\n",
      "Epoch 7/10\n",
      "20000/20000 [==============================] - 31s - loss: 0.3087 - acc: 0.8726 - val_loss: 0.3836 - val_acc: 0.8424\n",
      "Epoch 8/10\n",
      "20000/20000 [==============================] - 31s - loss: 0.2766 - acc: 0.8705 - val_loss: 0.3847 - val_acc: 0.8298\n",
      "Epoch 9/10\n",
      "20000/20000 [==============================] - 31s - loss: 0.2511 - acc: 0.8556 - val_loss: 0.4094 - val_acc: 0.8110\n",
      "Epoch 10/10\n",
      "20000/20000 [==============================] - 31s - loss: 0.2293 - acc: 0.8377 - val_loss: 0.4335 - val_acc: 0.7838\n"
     ]
    }
   ],
   "source": [
    "history = model.fit(x_train, y_train, epochs=10, batch_size=128, validation_split=0.2)"
   ]
  },
  {
   "cell_type": "code",
   "execution_count": 23,
   "metadata": {},
   "outputs": [
    {
     "data": {
      "image/png": "[encoded data removed]",
      "text/plain": [
       "<matplotlib.figure.Figure at 0x7f9d40146be0>"
      ]
     },
     "metadata": {},
     "output_type": "display_data"
    }
   ],
   "source": [
    "loss = history.history['loss']\n",
    "val_loss = history.history['val_loss']\n",
    "epochs = range(1, len(loss)+1)\n",
    "\n",
    "plt.figure()\n",
    "plt.plot(epochs, loss, 'b', label='Training Loss')\n",
    "plt.plot(epochs, val_loss, 'r', label='Validation Loss')\n",
    "plt.title('Training and Validation Loss')\n",
    "plt.legend()\n",
    "plt.show()"
   ]
  },
  {
   "cell_type": "code",
   "execution_count": 24,
   "metadata": {},
   "outputs": [
    {
     "data": {
      "image/png": "[encoded data removed]",
      "text/plain": [
       "<matplotlib.figure.Figure at 0x7f9d40123cc0>"
      ]
     },
     "metadata": {},
     "output_type": "display_data"
    }
   ],
   "source": [
    "acc = history.history['acc']\n",
    "val_acc = history.history['val_acc']\n",
    "epochs = range(1, len(acc)+1)\n",
    "\n",
    "plt.figure()\n",
    "plt.plot(epochs, acc, 'b', label='Training Accuracy')\n",
    "plt.plot(epochs, val_loss, 'r', label='Validation Accuracy')\n",
    "plt.title('Training and Validation Accuracy')\n",
    "plt.legend()\n",
    "plt.show()"
   ]
  },
  {
   "cell_type": "markdown",
   "metadata": {},
   "source": [
    "We end up with a worse validation accuracy than with the LSTM implementation of the same classifier, but training time is much faster."
   ]
  },
  {
   "cell_type": "code",
   "execution_count": null,
   "metadata": {},
   "outputs": [],
   "source": []
  }
 ],
 "metadata": {
  "kernelspec": {
   "display_name": "Python 3",
   "language": "python",
   "name": "python3"
  },
  "language_info": {
   "codemirror_mode": {
    "name": "ipython",
    "version": 3
   },
   "file_extension": ".py",
   "mimetype": "text/x-python",
   "name": "python",
   "nbconvert_exporter": "python",
   "pygments_lexer": "ipython3",
   "version": "3.5.2"
  }
 },
 "nbformat": 4,
 "nbformat_minor": 2
}
